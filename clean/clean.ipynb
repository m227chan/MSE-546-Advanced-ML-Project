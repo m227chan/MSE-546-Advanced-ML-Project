{
 "cells": [
  {
   "cell_type": "markdown",
   "metadata": {},
   "source": [
    "# Neo Bank Data Preparation Notebook\n",
    "\n",
    "The purpose of this notebook is to clean the dataset and create the features used in the train/test datasets"
   ]
  },
  {
   "cell_type": "code",
   "execution_count": 1,
   "metadata": {},
   "outputs": [],
   "source": [
    "import os\n",
    "import pandas as pd\n",
    "import numpy as np\n",
    "import seaborn as sns\n",
    "import matplotlib.pyplot as plt\n",
    "from datetime import datetime\n",
    "from sklearn.model_selection import train_test_split\n",
    "from sklearn.preprocessing import LabelEncoder, StandardScaler\n",
    "from sklearn.metrics import classification_report, confusion_matrix\n",
    "from datetime import timedelta"
   ]
  },
  {
   "cell_type": "markdown",
   "metadata": {},
   "source": [
    "### Load historical (2008-2023) dataset used to train the model"
   ]
  },
  {
   "cell_type": "code",
   "execution_count": 2,
   "metadata": {},
   "outputs": [
    {
     "name": "stdout",
     "output_type": "stream",
     "text": [
      "Total rows in the combined DataFrame: 3926058\n"
     ]
    }
   ],
   "source": [
    "import pandas as pd\n",
    "\n",
    "dataframes = []\n",
    "\n",
    "for year in range(2008, 2024):\n",
    "    file_path = f\"../data/train_{year}.parquet\"\n",
    "    try:\n",
    "        df = pd.read_parquet(file_path)\n",
    "        dataframes.append(df)\n",
    "    except Exception as e:\n",
    "        print(f\"Failed to read file {file_path}: {e}\")\n",
    "if dataframes:\n",
    "    combined_train_raw_df = pd.concat(dataframes, ignore_index=True)\n",
    "    print(f\"Total rows in the combined DataFrame: {len(combined_train_raw_df)}\")\n",
    "else:\n",
    "    print(\"No files were successfully read.\")"
   ]
  },
  {
   "cell_type": "markdown",
   "metadata": {},
   "source": [
    "### Load test dataset (2024)"
   ]
  },
  {
   "cell_type": "code",
   "execution_count": 3,
   "metadata": {},
   "outputs": [
    {
     "name": "stdout",
     "output_type": "stream",
     "text": [
      "1360472\n"
     ]
    }
   ],
   "source": [
    "file_path = f\"../data/test.parquet\"\n",
    "test_raw_df = pd.read_parquet(file_path)\n",
    "print(len(test_raw_df))"
   ]
  },
  {
   "cell_type": "markdown",
   "metadata": {},
   "source": [
    "### Create the training dataset (customer_id level data)\n",
    "\n",
    "Churn definition:\n",
    "- No interactions with the bank for at 18 or more months since the max date in the dataset (2023-12-31 in train)"
   ]
  },
  {
   "cell_type": "code",
   "execution_count": null,
   "metadata": {},
   "outputs": [
    {
     "name": "stdout",
     "output_type": "stream",
     "text": [
      "2023-12-31 00:00:00\n"
     ]
    }
   ],
   "source": [
    "combined_train_raw_df['date'] = pd.to_datetime(combined_train_raw_df['date'])\n",
    "\n",
    "max_date_train = max(combined_train_raw_df['date'])\n",
    "print(max_date_train)"
   ]
  },
  {
   "cell_type": "code",
   "execution_count": 5,
   "metadata": {},
   "outputs": [
    {
     "name": "stdout",
     "output_type": "stream",
     "text": [
      "2026-12-31 00:00:00\n"
     ]
    }
   ],
   "source": [
    "test_raw_df['date'] = pd.to_datetime(test_raw_df['date'])\n",
    "\n",
    "max_date_test = max(test_raw_df['date'])\n",
    "print(max_date_test)"
   ]
  },
  {
   "cell_type": "code",
   "execution_count": 6,
   "metadata": {},
   "outputs": [
    {
     "name": "stdout",
     "output_type": "stream",
     "text": [
      "19.94% of distinct customers since 2008-2023 have churned under our definition\n"
     ]
    },
    {
     "data": {
      "text/html": [
       "<div>\n",
       "<style scoped>\n",
       "    .dataframe tbody tr th:only-of-type {\n",
       "        vertical-align: middle;\n",
       "    }\n",
       "\n",
       "    .dataframe tbody tr th {\n",
       "        vertical-align: top;\n",
       "    }\n",
       "\n",
       "    .dataframe thead th {\n",
       "        text-align: right;\n",
       "    }\n",
       "</style>\n",
       "<table border=\"1\" class=\"dataframe\">\n",
       "  <thead>\n",
       "    <tr style=\"text-align: right;\">\n",
       "      <th></th>\n",
       "      <th>customer_id</th>\n",
       "      <th>churn_status</th>\n",
       "    </tr>\n",
       "  </thead>\n",
       "  <tbody>\n",
       "    <tr>\n",
       "      <th>0</th>\n",
       "      <td>1</td>\n",
       "      <td>False</td>\n",
       "    </tr>\n",
       "    <tr>\n",
       "      <th>1</th>\n",
       "      <td>2</td>\n",
       "      <td>True</td>\n",
       "    </tr>\n",
       "    <tr>\n",
       "      <th>2</th>\n",
       "      <td>3</td>\n",
       "      <td>True</td>\n",
       "    </tr>\n",
       "    <tr>\n",
       "      <th>3</th>\n",
       "      <td>4</td>\n",
       "      <td>True</td>\n",
       "    </tr>\n",
       "    <tr>\n",
       "      <th>4</th>\n",
       "      <td>5</td>\n",
       "      <td>False</td>\n",
       "    </tr>\n",
       "  </tbody>\n",
       "</table>\n",
       "</div>"
      ],
      "text/plain": [
       "   customer_id  churn_status\n",
       "0            1         False\n",
       "1            2          True\n",
       "2            3          True\n",
       "3            4          True\n",
       "4            5         False"
      ]
     },
     "execution_count": 6,
     "metadata": {},
     "output_type": "execute_result"
    }
   ],
   "source": [
    "last_interaction = combined_train_raw_df.groupby('customer_id')['date'].max()\n",
    "\n",
    "churn_date = pd.Timestamp(max_date_train) \n",
    "cutoff_date = churn_date - pd.DateOffset(months=18) ## make 18 month of inactivity churn\n",
    "\n",
    "churn_status = last_interaction < cutoff_date\n",
    "\n",
    "df_train = churn_status.reset_index(name='churn_status')\n",
    "\n",
    "churn_percentage = (df_train['churn_status'].sum() / len(df_train)) * 100\n",
    "print(f\"{churn_percentage:.2f}% of distinct customers since 2008-2023 have churned under our definition\")\n",
    "\n",
    "df_train.head()"
   ]
  },
  {
   "cell_type": "code",
   "execution_count": 7,
   "metadata": {},
   "outputs": [
    {
     "name": "stdout",
     "output_type": "stream",
     "text": [
      "14.96% of distinct customers in 2024 have churned under our definition\n"
     ]
    },
    {
     "data": {
      "text/html": [
       "<div>\n",
       "<style scoped>\n",
       "    .dataframe tbody tr th:only-of-type {\n",
       "        vertical-align: middle;\n",
       "    }\n",
       "\n",
       "    .dataframe tbody tr th {\n",
       "        vertical-align: top;\n",
       "    }\n",
       "\n",
       "    .dataframe thead th {\n",
       "        text-align: right;\n",
       "    }\n",
       "</style>\n",
       "<table border=\"1\" class=\"dataframe\">\n",
       "  <thead>\n",
       "    <tr style=\"text-align: right;\">\n",
       "      <th></th>\n",
       "      <th>customer_id</th>\n",
       "      <th>churn_status</th>\n",
       "    </tr>\n",
       "  </thead>\n",
       "  <tbody>\n",
       "    <tr>\n",
       "      <th>0</th>\n",
       "      <td>1</td>\n",
       "      <td>False</td>\n",
       "    </tr>\n",
       "    <tr>\n",
       "      <th>1</th>\n",
       "      <td>2</td>\n",
       "      <td>False</td>\n",
       "    </tr>\n",
       "    <tr>\n",
       "      <th>2</th>\n",
       "      <td>3</td>\n",
       "      <td>True</td>\n",
       "    </tr>\n",
       "    <tr>\n",
       "      <th>3</th>\n",
       "      <td>4</td>\n",
       "      <td>True</td>\n",
       "    </tr>\n",
       "    <tr>\n",
       "      <th>4</th>\n",
       "      <td>5</td>\n",
       "      <td>True</td>\n",
       "    </tr>\n",
       "  </tbody>\n",
       "</table>\n",
       "</div>"
      ],
      "text/plain": [
       "   customer_id  churn_status\n",
       "0            1         False\n",
       "1            2         False\n",
       "2            3          True\n",
       "3            4          True\n",
       "4            5          True"
      ]
     },
     "execution_count": 7,
     "metadata": {},
     "output_type": "execute_result"
    }
   ],
   "source": [
    "last_interaction = test_raw_df.groupby('customer_id')['date'].max()\n",
    "\n",
    "churn_date = pd.Timestamp(max_date_test)\n",
    "cutoff_date = churn_date - pd.DateOffset(months=18)\n",
    "\n",
    "churn_status = last_interaction < cutoff_date\n",
    "\n",
    "df_test = churn_status.reset_index(name='churn_status')\n",
    "\n",
    "churn_percentage = (df_test['churn_status'].sum() / len(df_test)) * 100\n",
    "print(f\"{churn_percentage:.2f}% of distinct customers in 2024 have churned under our definition\")\n",
    "\n",
    "df_test.head()"
   ]
  },
  {
   "cell_type": "markdown",
   "metadata": {},
   "source": [
    "## Features\n"
   ]
  },
  {
   "cell_type": "markdown",
   "metadata": {},
   "source": [
    "### Customer Age"
   ]
  },
  {
   "cell_type": "code",
   "execution_count": 8,
   "metadata": {},
   "outputs": [],
   "source": [
    "combined_train_raw_df['date_of_birth'] = pd.to_datetime(combined_train_raw_df['date_of_birth'])\n",
    "last_interaction_dates = combined_train_raw_df.groupby('customer_id')['date'].max().reset_index()\n",
    "last_interaction_dates = last_interaction_dates.rename(columns={'date': 'last_interaction_date'})\n",
    "combined_train_raw_df = combined_train_raw_df.merge(last_interaction_dates, on='customer_id')\n",
    "combined_train_raw_df['age'] = (\n",
    "    (combined_train_raw_df['last_interaction_date'] - combined_train_raw_df['date_of_birth']).dt.days // 365\n",
    ")\n",
    "customer_age = combined_train_raw_df.groupby('customer_id')['age'].first().reset_index()\n",
    "df_train = df_train.merge(customer_age, on='customer_id', how='left')\n",
    "\n",
    "\n",
    "\n",
    "test_raw_df['date_of_birth'] = pd.to_datetime(test_raw_df['date_of_birth'])\n",
    "last_interaction_dates = test_raw_df.groupby('customer_id')['date'].max().reset_index()\n",
    "last_interaction_dates = last_interaction_dates.rename(columns={'date': 'last_interaction_date'})\n",
    "test_raw_df = test_raw_df.merge(last_interaction_dates, on='customer_id')\n",
    "test_raw_df['age'] = (\n",
    "    (test_raw_df['last_interaction_date'] - test_raw_df['date_of_birth']).dt.days // 365\n",
    ")\n",
    "customer_age = test_raw_df.groupby('customer_id')['age'].first().reset_index()\n",
    "df_test = df_test.merge(customer_age, on='customer_id', how='left')"
   ]
  },
  {
   "cell_type": "markdown",
   "metadata": {},
   "source": [
    "### Volume Transfer diffs"
   ]
  },
  {
   "cell_type": "code",
   "execution_count": 9,
   "metadata": {},
   "outputs": [
    {
     "data": {
      "text/html": [
       "<div>\n",
       "<style scoped>\n",
       "    .dataframe tbody tr th:only-of-type {\n",
       "        vertical-align: middle;\n",
       "    }\n",
       "\n",
       "    .dataframe tbody tr th {\n",
       "        vertical-align: top;\n",
       "    }\n",
       "\n",
       "    .dataframe thead th {\n",
       "        text-align: right;\n",
       "    }\n",
       "</style>\n",
       "<table border=\"1\" class=\"dataframe\">\n",
       "  <thead>\n",
       "    <tr style=\"text-align: right;\">\n",
       "      <th></th>\n",
       "      <th>customer_id</th>\n",
       "      <th>churn_status</th>\n",
       "      <th>age</th>\n",
       "      <th>bank_diff</th>\n",
       "    </tr>\n",
       "  </thead>\n",
       "  <tbody>\n",
       "    <tr>\n",
       "      <th>0</th>\n",
       "      <td>1</td>\n",
       "      <td>False</td>\n",
       "      <td>68</td>\n",
       "      <td>257.421490</td>\n",
       "    </tr>\n",
       "    <tr>\n",
       "      <th>1</th>\n",
       "      <td>2</td>\n",
       "      <td>True</td>\n",
       "      <td>63</td>\n",
       "      <td>276.999433</td>\n",
       "    </tr>\n",
       "    <tr>\n",
       "      <th>2</th>\n",
       "      <td>3</td>\n",
       "      <td>True</td>\n",
       "      <td>19</td>\n",
       "      <td>23274.169749</td>\n",
       "    </tr>\n",
       "    <tr>\n",
       "      <th>3</th>\n",
       "      <td>4</td>\n",
       "      <td>True</td>\n",
       "      <td>35</td>\n",
       "      <td>1840.653045</td>\n",
       "    </tr>\n",
       "    <tr>\n",
       "      <th>4</th>\n",
       "      <td>5</td>\n",
       "      <td>False</td>\n",
       "      <td>16</td>\n",
       "      <td>15641.464698</td>\n",
       "    </tr>\n",
       "  </tbody>\n",
       "</table>\n",
       "</div>"
      ],
      "text/plain": [
       "   customer_id  churn_status  age     bank_diff\n",
       "0            1         False   68    257.421490\n",
       "1            2          True   63    276.999433\n",
       "2            3          True   19  23274.169749\n",
       "3            4          True   35   1840.653045\n",
       "4            5         False   16  15641.464698"
      ]
     },
     "execution_count": 9,
     "metadata": {},
     "output_type": "execute_result"
    }
   ],
   "source": [
    "combined_train_raw_df['date'] = pd.to_datetime(combined_train_raw_df['date'])\n",
    "combined_train_raw_df = combined_train_raw_df.sort_values(by=['customer_id', 'date'])\n",
    "\n",
    "combined_train_raw_df['max_date'] = combined_train_raw_df.groupby('customer_id')['date'].transform('max')\n",
    "\n",
    "combined_train_raw_df['in_window'] = (\n",
    "    combined_train_raw_df['date'] > \n",
    "    (combined_train_raw_df['max_date'] - pd.Timedelta(days=30))\n",
    ")\n",
    "\n",
    "combined_train_raw_df['window_in'] = (\n",
    "    combined_train_raw_df['bank_transfer_in_volume'] * combined_train_raw_df['in_window']\n",
    ")\n",
    "combined_train_raw_df['window_out'] = (\n",
    "    combined_train_raw_df['bank_transfer_out_volume'] * combined_train_raw_df['in_window']\n",
    ")\n",
    "\n",
    "sums = combined_train_raw_df.groupby('customer_id', sort=False).agg(\n",
    "    total_bank_in=('window_in', 'sum'),\n",
    "    total_bank_out=('window_out', 'sum')\n",
    ").reset_index()\n",
    "\n",
    "sums['bank_diff'] = sums['total_bank_in'] - sums['total_bank_out']\n",
    "\n",
    "df_train = pd.merge(df_train, sums[['customer_id', 'bank_diff']], on='customer_id', how='left')"
   ]
  },
  {
   "cell_type": "code",
   "execution_count": null,
   "metadata": {},
   "outputs": [
    {
     "data": {
      "text/html": [
       "<div>\n",
       "<style scoped>\n",
       "    .dataframe tbody tr th:only-of-type {\n",
       "        vertical-align: middle;\n",
       "    }\n",
       "\n",
       "    .dataframe tbody tr th {\n",
       "        vertical-align: top;\n",
       "    }\n",
       "\n",
       "    .dataframe thead th {\n",
       "        text-align: right;\n",
       "    }\n",
       "</style>\n",
       "<table border=\"1\" class=\"dataframe\">\n",
       "  <thead>\n",
       "    <tr style=\"text-align: right;\">\n",
       "      <th></th>\n",
       "      <th>customer_id</th>\n",
       "      <th>churn_status</th>\n",
       "      <th>age</th>\n",
       "      <th>bank_diff</th>\n",
       "    </tr>\n",
       "  </thead>\n",
       "  <tbody>\n",
       "    <tr>\n",
       "      <th>0</th>\n",
       "      <td>1</td>\n",
       "      <td>False</td>\n",
       "      <td>71</td>\n",
       "      <td>734.663785</td>\n",
       "    </tr>\n",
       "    <tr>\n",
       "      <th>1</th>\n",
       "      <td>2</td>\n",
       "      <td>False</td>\n",
       "      <td>78</td>\n",
       "      <td>2.824867</td>\n",
       "    </tr>\n",
       "    <tr>\n",
       "      <th>2</th>\n",
       "      <td>3</td>\n",
       "      <td>True</td>\n",
       "      <td>21</td>\n",
       "      <td>40025.197105</td>\n",
       "    </tr>\n",
       "    <tr>\n",
       "      <th>3</th>\n",
       "      <td>4</td>\n",
       "      <td>True</td>\n",
       "      <td>51</td>\n",
       "      <td>365.017325</td>\n",
       "    </tr>\n",
       "    <tr>\n",
       "      <th>4</th>\n",
       "      <td>5</td>\n",
       "      <td>True</td>\n",
       "      <td>18</td>\n",
       "      <td>2698.584398</td>\n",
       "    </tr>\n",
       "  </tbody>\n",
       "</table>\n",
       "</div>"
      ],
      "text/plain": [
       "   customer_id  churn_status  age     bank_diff\n",
       "0            1         False   71    734.663785\n",
       "1            2         False   78      2.824867\n",
       "2            3          True   21  40025.197105\n",
       "3            4          True   51    365.017325\n",
       "4            5          True   18   2698.584398"
      ]
     },
     "execution_count": 10,
     "metadata": {},
     "output_type": "execute_result"
    }
   ],
   "source": [
    "test_raw_df['date'] = pd.to_datetime(test_raw_df['date'])\n",
    "test_raw_df = test_raw_df.sort_values(by=['customer_id', 'date'])\n",
    "\n",
    "test_raw_df['max_date'] = test_raw_df.groupby('customer_id')['date'].transform('max')\n",
    "\n",
    "test_raw_df['in_window'] = (\n",
    "    test_raw_df['date'] > \n",
    "    (test_raw_df['max_date'] - pd.Timedelta(days=30))\n",
    ")\n",
    "\n",
    "test_raw_df['window_in'] = (\n",
    "    test_raw_df['bank_transfer_in_volume'] * test_raw_df['in_window']\n",
    ")\n",
    "test_raw_df['window_out'] = (\n",
    "    test_raw_df['bank_transfer_out_volume'] * test_raw_df['in_window']\n",
    ")\n",
    "\n",
    "sums = test_raw_df.groupby('customer_id', sort=False).agg(\n",
    "    total_bank_in=('window_in', 'sum'),\n",
    "    total_bank_out=('window_out', 'sum')\n",
    ").reset_index()\n",
    "\n",
    "sums['bank_diff'] = sums['total_bank_in'] - sums['total_bank_out']\n",
    "\n",
    "df_test = pd.merge(df_test, sums[['customer_id', 'bank_diff']], on='customer_id', how='left')"
   ]
  },
  {
   "cell_type": "markdown",
   "metadata": {},
   "source": [
    "### Complaints"
   ]
  },
  {
   "cell_type": "code",
   "execution_count": 11,
   "metadata": {},
   "outputs": [],
   "source": [
    "def calculate_30d_complaints(df):\n",
    "    last_dates = df.groupby('customer_id')['date'].max().reset_index(name='date_last')\n",
    "    \n",
    "    df_with_last_date = df.merge(last_dates, on='customer_id')\n",
    "    \n",
    "    complaints_30d = (\n",
    "        df_with_last_date[\n",
    "            (df_with_last_date['date'] >= df_with_last_date['date_last'] - pd.Timedelta(days=30)) &\n",
    "            (df_with_last_date['date'] < df_with_last_date['date_last'])\n",
    "        ]\n",
    "        .groupby('customer_id')['complaints']\n",
    "        .sum()\n",
    "        .reset_index(name='total_complaints_30d')\n",
    "    )\n",
    "    \n",
    "    return complaints_30d\n",
    "\n",
    "complaints_30d_train = calculate_30d_complaints(combined_train_raw_df)\n",
    "complaints_30d_test = calculate_30d_complaints(test_raw_df)\n",
    "\n",
    "df_train = df_train.merge(complaints_30d_train, on='customer_id', how='left')\n",
    "df_train['total_complaints_30d'] = df_train['total_complaints_30d'].fillna(0)\n",
    "\n",
    "df_test = df_test.merge(complaints_30d_test, on='customer_id', how='left')\n",
    "df_test['total_complaints_30d'] = df_test['total_complaints_30d'].fillna(0)"
   ]
  },
  {
   "cell_type": "markdown",
   "metadata": {},
   "source": [
    "### longest gap"
   ]
  },
  {
   "cell_type": "code",
   "execution_count": 13,
   "metadata": {},
   "outputs": [],
   "source": [
    "gap_df = combined_train_raw_df.sort_values(by=['customer_id', 'date'])\n",
    "gap_df['gap'] = gap_df.groupby('customer_id')['date'].diff()\n",
    "\n",
    "gap_stats = gap_df.groupby('customer_id')['gap'].agg(\n",
    "    longest_gap='max',\n",
    ").reset_index()\n",
    "\n",
    "gap_stats['longest_gap'] = gap_stats['longest_gap'].dt.days\n",
    "\n",
    "df_train = df_train.merge(gap_stats, on='customer_id', how='left').fillna(0)\n",
    "\n",
    "\n",
    "\n",
    "gap_df = test_raw_df.sort_values(by=['customer_id', 'date'])\n",
    "gap_df['gap'] = gap_df.groupby('customer_id')['date'].diff()\n",
    "\n",
    "gap_stats = gap_df.groupby('customer_id')['gap'].agg(\n",
    "    longest_gap='max',\n",
    ").reset_index()\n",
    "\n",
    "gap_stats['longest_gap'] = gap_stats['longest_gap'].dt.days\n",
    "\n",
    "df_test = df_test.merge(gap_stats, on='customer_id', how='left').fillna(0)"
   ]
  },
  {
   "cell_type": "markdown",
   "metadata": {},
   "source": [
    "### Tenure"
   ]
  },
  {
   "cell_type": "code",
   "execution_count": 14,
   "metadata": {},
   "outputs": [],
   "source": [
    "latest_tenure = combined_train_raw_df.groupby('customer_id')['tenure'].last().reset_index()\n",
    "latest_tenure['tenure_bucket'] = pd.cut(latest_tenure['tenure'],\n",
    "                                       bins=[0, 365, 1095, np.inf],\n",
    "                                       labels=[0, 1, 2]) #'<1 year' = 0, '1-3 years' = 1, '>3 years' = 2\n",
    "\n",
    "df_train = df_train.merge(latest_tenure[['customer_id', 'tenure']], on='customer_id', how='left').fillna(1)"
   ]
  },
  {
   "cell_type": "code",
   "execution_count": 15,
   "metadata": {},
   "outputs": [],
   "source": [
    "latest_tenure = test_raw_df.groupby('customer_id')['tenure'].last().reset_index()\n",
    "latest_tenure['tenure_bucket'] = pd.cut(latest_tenure['tenure'],\n",
    "                                       bins=[0, 365, 1095, np.inf],\n",
    "                                       labels=[0, 1, 2])\n",
    "df_test = df_test.merge(latest_tenure[['customer_id', 'tenure']], on='customer_id', how='left').fillna(1)"
   ]
  },
  {
   "cell_type": "markdown",
   "metadata": {},
   "source": [
    "### Unemployment Flag"
   ]
  },
  {
   "cell_type": "code",
   "execution_count": 16,
   "metadata": {},
   "outputs": [
    {
     "name": "stdout",
     "output_type": "stream",
     "text": [
      "is_unemployed\n",
      "0    94780\n",
      "1    11399\n",
      "Name: count, dtype: int64\n",
      "is_unemployed\n",
      "0    135846\n",
      "1     29309\n",
      "Name: count, dtype: int64\n"
     ]
    }
   ],
   "source": [
    "latest_jobs = (\n",
    "    combined_train_raw_df\n",
    "    .sort_values(['customer_id', 'date'], ascending=[True, False])\n",
    "    .groupby('customer_id')['job']\n",
    "    .first()\n",
    "    .reset_index()\n",
    ")\n",
    "\n",
    "latest_jobs['is_unemployed'] = (\n",
    "    latest_jobs['job']\n",
    "    .str.strip().str.lower()\n",
    "    .eq('unemployed')\n",
    "    .astype(int)\n",
    ")\n",
    "\n",
    "df_train = df_train.merge(\n",
    "    latest_jobs[['customer_id', 'is_unemployed']],\n",
    "    on='customer_id',\n",
    "    how='left'\n",
    ").fillna({'is_unemployed': 0})\n",
    "print(df_train['is_unemployed'].value_counts())\n",
    "\n",
    "\n",
    "\n",
    "\n",
    "latest_jobs = (\n",
    "    test_raw_df\n",
    "    .sort_values(['customer_id', 'date'], ascending=[True, False])\n",
    "    .groupby('customer_id')['job']\n",
    "    .first()\n",
    "    .reset_index()\n",
    ")\n",
    "\n",
    "latest_jobs['is_unemployed'] = (\n",
    "    latest_jobs['job']\n",
    "    .str.strip().str.lower()\n",
    "    .eq('unemployed')\n",
    "    .astype(int)\n",
    ")\n",
    "\n",
    "df_test = df_test.merge(\n",
    "    latest_jobs[['customer_id', 'is_unemployed']],\n",
    "    on='customer_id',\n",
    "    how='left'\n",
    ").fillna({'is_unemployed': 0})\n",
    "print(df_test['is_unemployed'].value_counts())"
   ]
  },
  {
   "cell_type": "markdown",
   "metadata": {},
   "source": [
    "### Export Train/Test sets to CSV"
   ]
  },
  {
   "cell_type": "code",
   "execution_count": 17,
   "metadata": {},
   "outputs": [
    {
     "data": {
      "text/html": [
       "<div>\n",
       "<style scoped>\n",
       "    .dataframe tbody tr th:only-of-type {\n",
       "        vertical-align: middle;\n",
       "    }\n",
       "\n",
       "    .dataframe tbody tr th {\n",
       "        vertical-align: top;\n",
       "    }\n",
       "\n",
       "    .dataframe thead th {\n",
       "        text-align: right;\n",
       "    }\n",
       "</style>\n",
       "<table border=\"1\" class=\"dataframe\">\n",
       "  <thead>\n",
       "    <tr style=\"text-align: right;\">\n",
       "      <th></th>\n",
       "      <th>customer_id</th>\n",
       "      <th>churn_status</th>\n",
       "      <th>age</th>\n",
       "      <th>bank_diff</th>\n",
       "      <th>total_complaints_30d</th>\n",
       "      <th>longest_gap</th>\n",
       "      <th>tenure</th>\n",
       "      <th>is_unemployed</th>\n",
       "    </tr>\n",
       "  </thead>\n",
       "  <tbody>\n",
       "    <tr>\n",
       "      <th>0</th>\n",
       "      <td>1</td>\n",
       "      <td>False</td>\n",
       "      <td>68</td>\n",
       "      <td>257.421490</td>\n",
       "      <td>0.0</td>\n",
       "      <td>384.0</td>\n",
       "      <td>5398</td>\n",
       "      <td>0</td>\n",
       "    </tr>\n",
       "    <tr>\n",
       "      <th>1</th>\n",
       "      <td>2</td>\n",
       "      <td>True</td>\n",
       "      <td>63</td>\n",
       "      <td>276.999433</td>\n",
       "      <td>0.0</td>\n",
       "      <td>397.0</td>\n",
       "      <td>887</td>\n",
       "      <td>0</td>\n",
       "    </tr>\n",
       "    <tr>\n",
       "      <th>2</th>\n",
       "      <td>3</td>\n",
       "      <td>True</td>\n",
       "      <td>19</td>\n",
       "      <td>23274.169749</td>\n",
       "      <td>0.0</td>\n",
       "      <td>401.0</td>\n",
       "      <td>5217</td>\n",
       "      <td>0</td>\n",
       "    </tr>\n",
       "    <tr>\n",
       "      <th>3</th>\n",
       "      <td>4</td>\n",
       "      <td>True</td>\n",
       "      <td>35</td>\n",
       "      <td>1840.653045</td>\n",
       "      <td>0.0</td>\n",
       "      <td>383.0</td>\n",
       "      <td>448</td>\n",
       "      <td>0</td>\n",
       "    </tr>\n",
       "    <tr>\n",
       "      <th>4</th>\n",
       "      <td>5</td>\n",
       "      <td>False</td>\n",
       "      <td>16</td>\n",
       "      <td>15641.464698</td>\n",
       "      <td>0.0</td>\n",
       "      <td>398.0</td>\n",
       "      <td>5469</td>\n",
       "      <td>0</td>\n",
       "    </tr>\n",
       "  </tbody>\n",
       "</table>\n",
       "</div>"
      ],
      "text/plain": [
       "   customer_id  churn_status  age     bank_diff  total_complaints_30d  \\\n",
       "0            1         False   68    257.421490                   0.0   \n",
       "1            2          True   63    276.999433                   0.0   \n",
       "2            3          True   19  23274.169749                   0.0   \n",
       "3            4          True   35   1840.653045                   0.0   \n",
       "4            5         False   16  15641.464698                   0.0   \n",
       "\n",
       "   longest_gap  tenure  is_unemployed  \n",
       "0        384.0    5398              0  \n",
       "1        397.0     887              0  \n",
       "2        401.0    5217              0  \n",
       "3        383.0     448              0  \n",
       "4        398.0    5469              0  "
      ]
     },
     "execution_count": 17,
     "metadata": {},
     "output_type": "execute_result"
    }
   ],
   "source": [
    "df_train.head()"
   ]
  },
  {
   "cell_type": "code",
   "execution_count": 18,
   "metadata": {},
   "outputs": [
    {
     "data": {
      "text/html": [
       "<div>\n",
       "<style scoped>\n",
       "    .dataframe tbody tr th:only-of-type {\n",
       "        vertical-align: middle;\n",
       "    }\n",
       "\n",
       "    .dataframe tbody tr th {\n",
       "        vertical-align: top;\n",
       "    }\n",
       "\n",
       "    .dataframe thead th {\n",
       "        text-align: right;\n",
       "    }\n",
       "</style>\n",
       "<table border=\"1\" class=\"dataframe\">\n",
       "  <thead>\n",
       "    <tr style=\"text-align: right;\">\n",
       "      <th></th>\n",
       "      <th>customer_id</th>\n",
       "      <th>churn_status</th>\n",
       "      <th>age</th>\n",
       "      <th>bank_diff</th>\n",
       "      <th>total_complaints_30d</th>\n",
       "      <th>longest_gap</th>\n",
       "      <th>tenure</th>\n",
       "      <th>is_unemployed</th>\n",
       "    </tr>\n",
       "  </thead>\n",
       "  <tbody>\n",
       "    <tr>\n",
       "      <th>0</th>\n",
       "      <td>1</td>\n",
       "      <td>False</td>\n",
       "      <td>71</td>\n",
       "      <td>734.663785</td>\n",
       "      <td>0.0</td>\n",
       "      <td>0.0</td>\n",
       "      <td>5398</td>\n",
       "      <td>0</td>\n",
       "    </tr>\n",
       "    <tr>\n",
       "      <th>1</th>\n",
       "      <td>2</td>\n",
       "      <td>False</td>\n",
       "      <td>78</td>\n",
       "      <td>2.824867</td>\n",
       "      <td>0.0</td>\n",
       "      <td>0.0</td>\n",
       "      <td>887</td>\n",
       "      <td>0</td>\n",
       "    </tr>\n",
       "    <tr>\n",
       "      <th>2</th>\n",
       "      <td>3</td>\n",
       "      <td>True</td>\n",
       "      <td>21</td>\n",
       "      <td>40025.197105</td>\n",
       "      <td>0.0</td>\n",
       "      <td>0.0</td>\n",
       "      <td>5217</td>\n",
       "      <td>0</td>\n",
       "    </tr>\n",
       "    <tr>\n",
       "      <th>3</th>\n",
       "      <td>4</td>\n",
       "      <td>True</td>\n",
       "      <td>51</td>\n",
       "      <td>365.017325</td>\n",
       "      <td>0.0</td>\n",
       "      <td>0.0</td>\n",
       "      <td>448</td>\n",
       "      <td>0</td>\n",
       "    </tr>\n",
       "    <tr>\n",
       "      <th>4</th>\n",
       "      <td>5</td>\n",
       "      <td>True</td>\n",
       "      <td>18</td>\n",
       "      <td>2698.584398</td>\n",
       "      <td>0.0</td>\n",
       "      <td>375.0</td>\n",
       "      <td>6235</td>\n",
       "      <td>0</td>\n",
       "    </tr>\n",
       "  </tbody>\n",
       "</table>\n",
       "</div>"
      ],
      "text/plain": [
       "   customer_id  churn_status  age     bank_diff  total_complaints_30d  \\\n",
       "0            1         False   71    734.663785                   0.0   \n",
       "1            2         False   78      2.824867                   0.0   \n",
       "2            3          True   21  40025.197105                   0.0   \n",
       "3            4          True   51    365.017325                   0.0   \n",
       "4            5          True   18   2698.584398                   0.0   \n",
       "\n",
       "   longest_gap  tenure  is_unemployed  \n",
       "0          0.0    5398              0  \n",
       "1          0.0     887              0  \n",
       "2          0.0    5217              0  \n",
       "3          0.0     448              0  \n",
       "4        375.0    6235              0  "
      ]
     },
     "execution_count": 18,
     "metadata": {},
     "output_type": "execute_result"
    }
   ],
   "source": [
    "df_test.head()"
   ]
  },
  {
   "cell_type": "code",
   "execution_count": 19,
   "metadata": {},
   "outputs": [
    {
     "name": "stdout",
     "output_type": "stream",
     "text": [
      "Trainset saved as: ../data/train_2025-02-04_17-10-32.csv\n"
     ]
    }
   ],
   "source": [
    "filename = f\"../data/train_{datetime.now().strftime('%Y-%m-%d_%H-%M-%S')}.csv\"\n",
    "df_train.to_csv(filename, index=False)\n",
    "print(f\"Trainset saved as: {filename}\")"
   ]
  },
  {
   "cell_type": "code",
   "execution_count": 20,
   "metadata": {},
   "outputs": [
    {
     "name": "stdout",
     "output_type": "stream",
     "text": [
      "Testset saved as: ../data/test_2025-02-04_17-10-33.csv\n"
     ]
    }
   ],
   "source": [
    "filename = f\"../data/test_{datetime.now().strftime('%Y-%m-%d_%H-%M-%S')}.csv\"\n",
    "df_test.to_csv(filename, index=False)\n",
    "print(f\"Testset saved as: {filename}\")"
   ]
  }
 ],
 "metadata": {
  "kernelspec": {
   "display_name": ".venv",
   "language": "python",
   "name": "python3"
  },
  "language_info": {
   "codemirror_mode": {
    "name": "ipython",
    "version": 3
   },
   "file_extension": ".py",
   "mimetype": "text/x-python",
   "name": "python",
   "nbconvert_exporter": "python",
   "pygments_lexer": "ipython3",
   "version": "3.11.0"
  }
 },
 "nbformat": 4,
 "nbformat_minor": 2
}
