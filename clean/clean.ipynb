{
 "cells": [
  {
   "cell_type": "markdown",
   "metadata": {},
   "source": [
    "# Neo Bank Data Preparation Notebook\n",
    "\n",
    "The purpose of this notebook is to clean the dataset and create the features used in the train/test datasets"
   ]
  },
  {
   "cell_type": "code",
   "execution_count": 99,
   "metadata": {},
   "outputs": [],
   "source": [
    "import os\n",
    "import pandas as pd\n",
    "import numpy as np\n",
    "import seaborn as sns\n",
    "import matplotlib.pyplot as plt\n",
    "from datetime import datetime\n",
    "from sklearn.model_selection import train_test_split\n",
    "from sklearn.preprocessing import LabelEncoder, StandardScaler\n",
    "from sklearn.metrics import classification_report, confusion_matrix\n",
    "from datetime import timedelta"
   ]
  },
  {
   "cell_type": "markdown",
   "metadata": {},
   "source": [
    "### Load historical (2008-2023) dataset used to train the model"
   ]
  },
  {
   "cell_type": "code",
   "execution_count": 100,
   "metadata": {},
   "outputs": [
    {
     "name": "stdout",
     "output_type": "stream",
     "text": [
      "Total rows in the combined DataFrame: 3518453\n"
     ]
    }
   ],
   "source": [
    "import pandas as pd\n",
    "\n",
    "dataframes = []\n",
    "\n",
    "for year in range(2008, 2023):\n",
    "    file_path = f\"../data/train_{year}.parquet\"\n",
    "    try:\n",
    "        df = pd.read_parquet(file_path)\n",
    "        dataframes.append(df)\n",
    "    except Exception as e:\n",
    "        print(f\"Failed to read file {file_path}: {e}\")\n",
    "if dataframes:\n",
    "    combined_train_raw_df = pd.concat(dataframes, ignore_index=True)\n",
    "    print(f\"Total rows in the combined DataFrame: {len(combined_train_raw_df)}\")\n",
    "else:\n",
    "    print(\"No files were successfully read.\")"
   ]
  },
  {
   "cell_type": "markdown",
   "metadata": {},
   "source": [
    "### Load test dataset (2024)"
   ]
  },
  {
   "cell_type": "code",
   "execution_count": 102,
   "metadata": {},
   "outputs": [
    {
     "name": "stdout",
     "output_type": "stream",
     "text": [
      "1360472\n"
     ]
    }
   ],
   "source": [
    "file_path = f\"../data/test.parquet\"\n",
    "test_raw_df = pd.read_parquet(file_path)\n",
    "print(len(test_raw_df))"
   ]
  },
  {
   "cell_type": "markdown",
   "metadata": {},
   "source": [
    "### Data Cleaning"
   ]
  },
  {
   "cell_type": "code",
   "execution_count": 103,
   "metadata": {},
   "outputs": [
    {
     "name": "stdout",
     "output_type": "stream",
     "text": [
      "Records dropped: 1373\n",
      "Percentage of dataset removed: 0.04%\n"
     ]
    }
   ],
   "source": [
    "# drop unrealistic records of atm transfer out\n",
    "\n",
    "# current justification: it's not realisitc that someone can transfer money out of an ATM thousands of times in single day also it accounts for tiny \n",
    "# TODO: find a source to backup the reasoning for removing this data\n",
    "\n",
    "initial_count = len(combined_train_raw_df)\n",
    "\n",
    "# drop records with more than 10 atm transfer outs\n",
    "filtered_df = combined_train_raw_df.drop(combined_train_raw_df[combined_train_raw_df['atm_transfer_out'] > 10].index)\n",
    "\n",
    "# Calculate dropped records\n",
    "dropped_count = initial_count - len(filtered_df)\n",
    "percentage_dropped = (dropped_count / initial_count) * 100\n",
    "\n",
    "print(f\"Records dropped: {dropped_count}\")\n",
    "print(f\"Percentage of dataset removed: {percentage_dropped:.2f}%\")\n",
    "\n",
    "combined_train_raw_df = filtered_df"
   ]
  },
  {
   "cell_type": "code",
   "execution_count": 104,
   "metadata": {},
   "outputs": [
    {
     "name": "stdout",
     "output_type": "stream",
     "text": [
      "Records dropped: 316\n",
      "Percentage of dataset removed: 0.02%\n"
     ]
    }
   ],
   "source": [
    "# drop unrealistic records of atm transfer out\n",
    "\n",
    "# current justification: it's not realisitc that someone can transfer money out of an ATM thousands of times in single day also it accounts for tiny \n",
    "# TODO: find a source to backup the reasoning for removing this data\n",
    "\n",
    "initial_count = len(test_raw_df)\n",
    "\n",
    "# drop records with more than 10 atm transfer outs\n",
    "filtered_df = test_raw_df.drop(test_raw_df[test_raw_df['atm_transfer_out'] > 10].index)\n",
    "\n",
    "# Calculate dropped records\n",
    "dropped_count = initial_count - len(filtered_df)\n",
    "percentage_dropped = (dropped_count / initial_count) * 100\n",
    "\n",
    "print(f\"Records dropped: {dropped_count}\")\n",
    "print(f\"Percentage of dataset removed: {percentage_dropped:.2f}%\")\n",
    "\n",
    "test_raw_df = filtered_df"
   ]
  },
  {
   "cell_type": "code",
   "execution_count": 105,
   "metadata": {},
   "outputs": [
    {
     "name": "stdout",
     "output_type": "stream",
     "text": [
      "Records dropped: -2155451\n",
      "Percentage of dataset removed: -158.43%\n"
     ]
    }
   ],
   "source": [
    "# drop unrealistic records of atm transfer in\n",
    "\n",
    "# current justification: it's not realisitc that someone can transfer money out of an ATM thousands of times in single day also it accounts for tiny \n",
    "# TODO: find a source to backup the reasoning for removing this data\n",
    "\n",
    "# drop records with more than 10 atm transfer ins\n",
    "filtered_df = combined_train_raw_df.drop(combined_train_raw_df[combined_train_raw_df['atm_transfer_in'] > 10].index)\n",
    "\n",
    "# Calculate dropped records\n",
    "dropped_count = initial_count - len(filtered_df)\n",
    "percentage_dropped = (dropped_count / initial_count) * 100\n",
    "\n",
    "print(f\"Records dropped: {dropped_count}\")\n",
    "print(f\"Percentage of dataset removed: {percentage_dropped:.2f}%\")\n",
    "\n",
    "combined_train_raw_df = filtered_df"
   ]
  },
  {
   "cell_type": "code",
   "execution_count": 106,
   "metadata": {},
   "outputs": [
    {
     "name": "stdout",
     "output_type": "stream",
     "text": [
      "Records dropped: 680\n",
      "Percentage of dataset removed: 0.05%\n"
     ]
    }
   ],
   "source": [
    "# drop unrealistic records of atm transfer in\n",
    "\n",
    "# current justification: it's not realisitc that someone can transfer money out of an ATM thousands of times in single day also it accounts for tiny \n",
    "# TODO: find a source to backup the reasoning for removing this data\n",
    "\n",
    "# drop records with more than 10 atm transfer ins\n",
    "filtered_df = test_raw_df.drop(test_raw_df[test_raw_df['atm_transfer_in'] > 10].index)\n",
    "\n",
    "# Calculate dropped records\n",
    "dropped_count = initial_count - len(filtered_df)\n",
    "percentage_dropped = (dropped_count / initial_count) * 100\n",
    "\n",
    "print(f\"Records dropped: {dropped_count}\")\n",
    "print(f\"Percentage of dataset removed: {percentage_dropped:.2f}%\")\n",
    "\n",
    "test_raw_df = filtered_df"
   ]
  },
  {
   "cell_type": "markdown",
   "metadata": {},
   "source": [
    "### Create the training dataset (customer_id level data)\n",
    "\n",
    "Churn definition:\n",
    "- No interactions with the bank for at 18 or more months since the max date in the dataset (2023-12-31)"
   ]
  },
  {
   "cell_type": "code",
   "execution_count": 107,
   "metadata": {},
   "outputs": [
    {
     "name": "stdout",
     "output_type": "stream",
     "text": [
      "2022-12-31 00:00:00\n"
     ]
    }
   ],
   "source": [
    "# Ensure the 'date' column is in datetime format\n",
    "combined_train_raw_df['date'] = pd.to_datetime(combined_train_raw_df['date'])\n",
    "\n",
    "max_date = max(combined_train_raw_df['date'])\n",
    "print(max_date)"
   ]
  },
  {
   "cell_type": "code",
   "execution_count": 108,
   "metadata": {},
   "outputs": [
    {
     "name": "stdout",
     "output_type": "stream",
     "text": [
      "2026-12-31 00:00:00\n"
     ]
    }
   ],
   "source": [
    "# Ensure the 'date' column is in datetime format\n",
    "test_raw_df['date'] = pd.to_datetime(test_raw_df['date'])\n",
    "\n",
    "max_date = max(test_raw_df['date'])\n",
    "print(max_date)"
   ]
  },
  {
   "cell_type": "code",
   "execution_count": 109,
   "metadata": {},
   "outputs": [
    {
     "name": "stdout",
     "output_type": "stream",
     "text": [
      "100.00% of distinct customers since 2008-2023 have churned under our definition\n"
     ]
    },
    {
     "data": {
      "text/html": [
       "<div>\n",
       "<style scoped>\n",
       "    .dataframe tbody tr th:only-of-type {\n",
       "        vertical-align: middle;\n",
       "    }\n",
       "\n",
       "    .dataframe tbody tr th {\n",
       "        vertical-align: top;\n",
       "    }\n",
       "\n",
       "    .dataframe thead th {\n",
       "        text-align: right;\n",
       "    }\n",
       "</style>\n",
       "<table border=\"1\" class=\"dataframe\">\n",
       "  <thead>\n",
       "    <tr style=\"text-align: right;\">\n",
       "      <th></th>\n",
       "      <th>customer_id</th>\n",
       "      <th>churn_status</th>\n",
       "    </tr>\n",
       "  </thead>\n",
       "  <tbody>\n",
       "    <tr>\n",
       "      <th>0</th>\n",
       "      <td>1</td>\n",
       "      <td>True</td>\n",
       "    </tr>\n",
       "    <tr>\n",
       "      <th>1</th>\n",
       "      <td>2</td>\n",
       "      <td>True</td>\n",
       "    </tr>\n",
       "    <tr>\n",
       "      <th>2</th>\n",
       "      <td>3</td>\n",
       "      <td>True</td>\n",
       "    </tr>\n",
       "    <tr>\n",
       "      <th>3</th>\n",
       "      <td>4</td>\n",
       "      <td>True</td>\n",
       "    </tr>\n",
       "    <tr>\n",
       "      <th>4</th>\n",
       "      <td>5</td>\n",
       "      <td>True</td>\n",
       "    </tr>\n",
       "  </tbody>\n",
       "</table>\n",
       "</div>"
      ],
      "text/plain": [
       "   customer_id  churn_status\n",
       "0            1          True\n",
       "1            2          True\n",
       "2            3          True\n",
       "3            4          True\n",
       "4            5          True"
      ]
     },
     "execution_count": 109,
     "metadata": {},
     "output_type": "execute_result"
    }
   ],
   "source": [
    "# Get the last interaction date for each customer\n",
    "last_interaction = combined_train_raw_df.groupby('customer_id')['date'].max()\n",
    "\n",
    "# Define the churn threshold\n",
    "churn_date = pd.Timestamp(max_date) # Training the model up to the \n",
    "cutoff_date = churn_date - pd.DateOffset(months=18)\n",
    "\n",
    "# Determine churn status (True if last interaction was before cutoff_date)\n",
    "churn_status = last_interaction < cutoff_date\n",
    "\n",
    "# Convert to DataFrame\n",
    "df_train = churn_status.reset_index(name='churn_status')\n",
    "\n",
    "churn_percentage = (df_train['churn_status'].sum() / len(df_train)) * 100\n",
    "print(f\"{churn_percentage:.2f}% of distinct customers since 2008-2023 have churned under our definition\")\n",
    "\n",
    "df_train.head()"
   ]
  },
  {
   "cell_type": "code",
   "execution_count": 110,
   "metadata": {},
   "outputs": [
    {
     "name": "stdout",
     "output_type": "stream",
     "text": [
      "14.97% of distinct customers in 2024 have churned under our definition\n"
     ]
    },
    {
     "data": {
      "text/html": [
       "<div>\n",
       "<style scoped>\n",
       "    .dataframe tbody tr th:only-of-type {\n",
       "        vertical-align: middle;\n",
       "    }\n",
       "\n",
       "    .dataframe tbody tr th {\n",
       "        vertical-align: top;\n",
       "    }\n",
       "\n",
       "    .dataframe thead th {\n",
       "        text-align: right;\n",
       "    }\n",
       "</style>\n",
       "<table border=\"1\" class=\"dataframe\">\n",
       "  <thead>\n",
       "    <tr style=\"text-align: right;\">\n",
       "      <th></th>\n",
       "      <th>customer_id</th>\n",
       "      <th>churn_status</th>\n",
       "    </tr>\n",
       "  </thead>\n",
       "  <tbody>\n",
       "    <tr>\n",
       "      <th>0</th>\n",
       "      <td>1</td>\n",
       "      <td>False</td>\n",
       "    </tr>\n",
       "    <tr>\n",
       "      <th>1</th>\n",
       "      <td>2</td>\n",
       "      <td>False</td>\n",
       "    </tr>\n",
       "    <tr>\n",
       "      <th>2</th>\n",
       "      <td>3</td>\n",
       "      <td>True</td>\n",
       "    </tr>\n",
       "    <tr>\n",
       "      <th>3</th>\n",
       "      <td>4</td>\n",
       "      <td>True</td>\n",
       "    </tr>\n",
       "    <tr>\n",
       "      <th>4</th>\n",
       "      <td>5</td>\n",
       "      <td>True</td>\n",
       "    </tr>\n",
       "  </tbody>\n",
       "</table>\n",
       "</div>"
      ],
      "text/plain": [
       "   customer_id  churn_status\n",
       "0            1         False\n",
       "1            2         False\n",
       "2            3          True\n",
       "3            4          True\n",
       "4            5          True"
      ]
     },
     "execution_count": 110,
     "metadata": {},
     "output_type": "execute_result"
    }
   ],
   "source": [
    "# Get the last interaction date for each customer\n",
    "last_interaction = test_raw_df.groupby('customer_id')['date'].max()\n",
    "\n",
    "# Define the churn threshold\n",
    "churn_date = pd.Timestamp(max_date) # Training the model up to the \n",
    "cutoff_date = churn_date - pd.DateOffset(months=18)\n",
    "\n",
    "# Determine churn status (True if last interaction was before cutoff_date)\n",
    "churn_status = last_interaction < cutoff_date\n",
    "\n",
    "# Convert to DataFrame\n",
    "df_test = churn_status.reset_index(name='churn_status')\n",
    "\n",
    "churn_percentage = (df_test['churn_status'].sum() / len(df_test)) * 100\n",
    "print(f\"{churn_percentage:.2f}% of distinct customers in 2024 have churned under our definition\")\n",
    "\n",
    "df_test.head()"
   ]
  },
  {
   "cell_type": "markdown",
   "metadata": {},
   "source": [
    "## Feature Engineering\n",
    "\n",
    "Features:\n",
    "- customer age\n",
    "- country\n",
    "- account age\n",
    "- customer job category"
   ]
  },
  {
   "cell_type": "code",
   "execution_count": 111,
   "metadata": {},
   "outputs": [
    {
     "name": "stdout",
     "output_type": "stream",
     "text": [
      "Category\n",
      "Fraud False, Churn True    3515900\n",
      "Both True                       23\n",
      "Name: count, dtype: int64\n"
     ]
    }
   ],
   "source": [
    "# This code compares our definition of churn to the instances of churn due to fraud (since we can assume that these are ACTUAL cases where a customer churned)\n",
    "\n",
    "# Merge dataframes on customer_id\n",
    "merged_df = combined_train_raw_df.merge(df_train, on=\"customer_id\", how=\"inner\")\n",
    "\n",
    "# Categorizing based on churn_due_to_fraud and churn_status\n",
    "conditions = [\n",
    "    (merged_df[\"churn_due_to_fraud\"] == True) & (merged_df[\"churn_status\"] == True),\n",
    "    (merged_df[\"churn_due_to_fraud\"] == False) & (merged_df[\"churn_status\"] == False),\n",
    "    (merged_df[\"churn_due_to_fraud\"] == True) & (merged_df[\"churn_status\"] == False),\n",
    "    (merged_df[\"churn_due_to_fraud\"] == False) & (merged_df[\"churn_status\"] == True)\n",
    "]\n",
    "\n",
    "categories = [\"Both True\", \"Both False\", \"Fraud True, Churn False\", \"Fraud False, Churn True\"]\n",
    "\n",
    "merged_df[\"Category\"] = np.select(conditions, categories, default=\"Unknown\")\n",
    "category_counts = merged_df[\"Category\"].value_counts()\n",
    "\n",
    "print(category_counts)"
   ]
  },
  {
   "cell_type": "code",
   "execution_count": 112,
   "metadata": {},
   "outputs": [
    {
     "name": "stdout",
     "output_type": "stream",
     "text": [
      "Category\n",
      "Both False                 1283577\n",
      "Fraud False, Churn True      76160\n",
      "Fraud True, Churn False         48\n",
      "Both True                        7\n",
      "Name: count, dtype: int64\n"
     ]
    }
   ],
   "source": [
    "# This code compares our definition of churn to the instances of churn due to fraud (since we can assume that these are ACTUAL cases where a customer churned)\n",
    "\n",
    "# Merge dataframes on customer_id\n",
    "merged_df = test_raw_df.merge(df_test, on=\"customer_id\", how=\"inner\")\n",
    "\n",
    "# Categorizing based on churn_due_to_fraud and churn_status\n",
    "conditions = [\n",
    "    (merged_df[\"churn_due_to_fraud\"] == True) & (merged_df[\"churn_status\"] == True),\n",
    "    (merged_df[\"churn_due_to_fraud\"] == False) & (merged_df[\"churn_status\"] == False),\n",
    "    (merged_df[\"churn_due_to_fraud\"] == True) & (merged_df[\"churn_status\"] == False),\n",
    "    (merged_df[\"churn_due_to_fraud\"] == False) & (merged_df[\"churn_status\"] == True)\n",
    "]\n",
    "\n",
    "categories = [\"Both True\", \"Both False\", \"Fraud True, Churn False\", \"Fraud False, Churn True\"]\n",
    "\n",
    "merged_df[\"Category\"] = np.select(conditions, categories, default=\"Unknown\")\n",
    "category_counts = merged_df[\"Category\"].value_counts()\n",
    "\n",
    "print(category_counts)"
   ]
  },
  {
   "cell_type": "markdown",
   "metadata": {},
   "source": [
    "#### Age"
   ]
  },
  {
   "cell_type": "code",
   "execution_count": 113,
   "metadata": {},
   "outputs": [],
   "source": [
    "# Compute age as of 2023-12-31\n",
    "combined_train_raw_df['date_of_birth'] = pd.to_datetime(combined_train_raw_df['date_of_birth'])\n",
    "age = (pd.Timestamp('2023-12-31') - combined_train_raw_df.groupby('customer_id')['date_of_birth'].min()).dt.days // 365\n",
    "\n",
    "# Convert to DataFrame and merge with df_train\n",
    "age_df = age.reset_index(name='age')\n",
    "df_train = df_train.merge(age_df, on='customer_id')"
   ]
  },
  {
   "cell_type": "code",
   "execution_count": 114,
   "metadata": {},
   "outputs": [],
   "source": [
    "# Compute age as of 2023-12-31\n",
    "test_raw_df['date_of_birth'] = pd.to_datetime(test_raw_df['date_of_birth'])\n",
    "age = (pd.Timestamp('2023-12-31') - test_raw_df.groupby('customer_id')['date_of_birth'].min()).dt.days // 365\n",
    "\n",
    "# Convert to DataFrame and merge with df_test\n",
    "age_df = age.reset_index(name='age')\n",
    "df_test = df_test.merge(age_df, on='customer_id')"
   ]
  },
  {
   "cell_type": "markdown",
   "metadata": {},
   "source": [
    "#### Country"
   ]
  },
  {
   "cell_type": "code",
   "execution_count": 115,
   "metadata": {},
   "outputs": [],
   "source": [
    "# One-hot encode the 'country' column\n",
    "country_one_hot = pd.get_dummies(combined_train_raw_df['country'], prefix='country')\n",
    "\n",
    "# Merge one-hot encoded 'country' columns into df_train\n",
    "df_train = pd.merge(df_train, combined_train_raw_df[['customer_id']].drop_duplicates().merge(country_one_hot, left_index=True, right_index=True), on='customer_id')"
   ]
  },
  {
   "cell_type": "code",
   "execution_count": 116,
   "metadata": {},
   "outputs": [],
   "source": [
    "# One-hot encode the 'country' column\n",
    "country_one_hot = pd.get_dummies(test_raw_df['country'], prefix='country')\n",
    "\n",
    "# Merge one-hot encoded 'country' columns into df_test\n",
    "df_test = pd.merge(df_test, test_raw_df[['customer_id']].drop_duplicates().merge(country_one_hot, left_index=True, right_index=True), on='customer_id')"
   ]
  },
  {
   "cell_type": "markdown",
   "metadata": {},
   "source": [
    "### Export Train/Test sets to CSV"
   ]
  },
  {
   "cell_type": "code",
   "execution_count": 117,
   "metadata": {},
   "outputs": [
    {
     "data": {
      "text/html": [
       "<div>\n",
       "<style scoped>\n",
       "    .dataframe tbody tr th:only-of-type {\n",
       "        vertical-align: middle;\n",
       "    }\n",
       "\n",
       "    .dataframe tbody tr th {\n",
       "        vertical-align: top;\n",
       "    }\n",
       "\n",
       "    .dataframe thead th {\n",
       "        text-align: right;\n",
       "    }\n",
       "</style>\n",
       "<table border=\"1\" class=\"dataframe\">\n",
       "  <thead>\n",
       "    <tr style=\"text-align: right;\">\n",
       "      <th></th>\n",
       "      <th>customer_id</th>\n",
       "      <th>churn_status</th>\n",
       "      <th>age</th>\n",
       "      <th>country_Austria</th>\n",
       "      <th>country_Belgium</th>\n",
       "      <th>country_Bulgaria</th>\n",
       "      <th>country_Czech Republic</th>\n",
       "      <th>country_Denmark</th>\n",
       "      <th>country_Estonia</th>\n",
       "      <th>country_Finland</th>\n",
       "      <th>...</th>\n",
       "      <th>country_Netherlands</th>\n",
       "      <th>country_Norway</th>\n",
       "      <th>country_Poland</th>\n",
       "      <th>country_Portugal</th>\n",
       "      <th>country_Romania</th>\n",
       "      <th>country_Slovakia</th>\n",
       "      <th>country_Spain</th>\n",
       "      <th>country_Sweden</th>\n",
       "      <th>country_Switzerland</th>\n",
       "      <th>country_USA</th>\n",
       "    </tr>\n",
       "  </thead>\n",
       "  <tbody>\n",
       "    <tr>\n",
       "      <th>0</th>\n",
       "      <td>1</td>\n",
       "      <td>True</td>\n",
       "      <td>69</td>\n",
       "      <td>False</td>\n",
       "      <td>False</td>\n",
       "      <td>False</td>\n",
       "      <td>False</td>\n",
       "      <td>False</td>\n",
       "      <td>False</td>\n",
       "      <td>False</td>\n",
       "      <td>...</td>\n",
       "      <td>False</td>\n",
       "      <td>False</td>\n",
       "      <td>False</td>\n",
       "      <td>False</td>\n",
       "      <td>False</td>\n",
       "      <td>False</td>\n",
       "      <td>False</td>\n",
       "      <td>False</td>\n",
       "      <td>False</td>\n",
       "      <td>False</td>\n",
       "    </tr>\n",
       "    <tr>\n",
       "      <th>1</th>\n",
       "      <td>2</td>\n",
       "      <td>True</td>\n",
       "      <td>76</td>\n",
       "      <td>False</td>\n",
       "      <td>False</td>\n",
       "      <td>False</td>\n",
       "      <td>False</td>\n",
       "      <td>False</td>\n",
       "      <td>False</td>\n",
       "      <td>False</td>\n",
       "      <td>...</td>\n",
       "      <td>False</td>\n",
       "      <td>False</td>\n",
       "      <td>False</td>\n",
       "      <td>False</td>\n",
       "      <td>False</td>\n",
       "      <td>False</td>\n",
       "      <td>False</td>\n",
       "      <td>False</td>\n",
       "      <td>False</td>\n",
       "      <td>False</td>\n",
       "    </tr>\n",
       "    <tr>\n",
       "      <th>2</th>\n",
       "      <td>3</td>\n",
       "      <td>True</td>\n",
       "      <td>21</td>\n",
       "      <td>False</td>\n",
       "      <td>False</td>\n",
       "      <td>False</td>\n",
       "      <td>False</td>\n",
       "      <td>False</td>\n",
       "      <td>False</td>\n",
       "      <td>False</td>\n",
       "      <td>...</td>\n",
       "      <td>False</td>\n",
       "      <td>False</td>\n",
       "      <td>False</td>\n",
       "      <td>False</td>\n",
       "      <td>True</td>\n",
       "      <td>False</td>\n",
       "      <td>False</td>\n",
       "      <td>False</td>\n",
       "      <td>False</td>\n",
       "      <td>False</td>\n",
       "    </tr>\n",
       "    <tr>\n",
       "      <th>3</th>\n",
       "      <td>4</td>\n",
       "      <td>True</td>\n",
       "      <td>50</td>\n",
       "      <td>False</td>\n",
       "      <td>False</td>\n",
       "      <td>False</td>\n",
       "      <td>False</td>\n",
       "      <td>False</td>\n",
       "      <td>False</td>\n",
       "      <td>False</td>\n",
       "      <td>...</td>\n",
       "      <td>False</td>\n",
       "      <td>False</td>\n",
       "      <td>False</td>\n",
       "      <td>False</td>\n",
       "      <td>False</td>\n",
       "      <td>False</td>\n",
       "      <td>False</td>\n",
       "      <td>False</td>\n",
       "      <td>True</td>\n",
       "      <td>False</td>\n",
       "    </tr>\n",
       "    <tr>\n",
       "      <th>4</th>\n",
       "      <td>5</td>\n",
       "      <td>True</td>\n",
       "      <td>17</td>\n",
       "      <td>False</td>\n",
       "      <td>False</td>\n",
       "      <td>False</td>\n",
       "      <td>False</td>\n",
       "      <td>False</td>\n",
       "      <td>False</td>\n",
       "      <td>False</td>\n",
       "      <td>...</td>\n",
       "      <td>True</td>\n",
       "      <td>False</td>\n",
       "      <td>False</td>\n",
       "      <td>False</td>\n",
       "      <td>False</td>\n",
       "      <td>False</td>\n",
       "      <td>False</td>\n",
       "      <td>False</td>\n",
       "      <td>False</td>\n",
       "      <td>False</td>\n",
       "    </tr>\n",
       "  </tbody>\n",
       "</table>\n",
       "<p>5 rows × 28 columns</p>\n",
       "</div>"
      ],
      "text/plain": [
       "   customer_id  churn_status  age  country_Austria  country_Belgium  \\\n",
       "0            1          True   69            False            False   \n",
       "1            2          True   76            False            False   \n",
       "2            3          True   21            False            False   \n",
       "3            4          True   50            False            False   \n",
       "4            5          True   17            False            False   \n",
       "\n",
       "   country_Bulgaria  country_Czech Republic  country_Denmark  country_Estonia  \\\n",
       "0             False                   False            False            False   \n",
       "1             False                   False            False            False   \n",
       "2             False                   False            False            False   \n",
       "3             False                   False            False            False   \n",
       "4             False                   False            False            False   \n",
       "\n",
       "   country_Finland  ...  country_Netherlands  country_Norway  country_Poland  \\\n",
       "0            False  ...                False           False           False   \n",
       "1            False  ...                False           False           False   \n",
       "2            False  ...                False           False           False   \n",
       "3            False  ...                False           False           False   \n",
       "4            False  ...                 True           False           False   \n",
       "\n",
       "   country_Portugal  country_Romania  country_Slovakia  country_Spain  \\\n",
       "0             False            False             False          False   \n",
       "1             False            False             False          False   \n",
       "2             False             True             False          False   \n",
       "3             False            False             False          False   \n",
       "4             False            False             False          False   \n",
       "\n",
       "   country_Sweden  country_Switzerland  country_USA  \n",
       "0           False                False        False  \n",
       "1           False                False        False  \n",
       "2           False                False        False  \n",
       "3           False                 True        False  \n",
       "4           False                False        False  \n",
       "\n",
       "[5 rows x 28 columns]"
      ]
     },
     "execution_count": 117,
     "metadata": {},
     "output_type": "execute_result"
    }
   ],
   "source": [
    "# Display final df_train\n",
    "df_train.head()"
   ]
  },
  {
   "cell_type": "code",
   "execution_count": 118,
   "metadata": {},
   "outputs": [
    {
     "data": {
      "text/html": [
       "<div>\n",
       "<style scoped>\n",
       "    .dataframe tbody tr th:only-of-type {\n",
       "        vertical-align: middle;\n",
       "    }\n",
       "\n",
       "    .dataframe tbody tr th {\n",
       "        vertical-align: top;\n",
       "    }\n",
       "\n",
       "    .dataframe thead th {\n",
       "        text-align: right;\n",
       "    }\n",
       "</style>\n",
       "<table border=\"1\" class=\"dataframe\">\n",
       "  <thead>\n",
       "    <tr style=\"text-align: right;\">\n",
       "      <th></th>\n",
       "      <th>customer_id</th>\n",
       "      <th>churn_status</th>\n",
       "      <th>age</th>\n",
       "      <th>country_Austria</th>\n",
       "      <th>country_Belgium</th>\n",
       "      <th>country_Bulgaria</th>\n",
       "      <th>country_Czech Republic</th>\n",
       "      <th>country_Denmark</th>\n",
       "      <th>country_Estonia</th>\n",
       "      <th>country_Finland</th>\n",
       "      <th>...</th>\n",
       "      <th>country_Netherlands</th>\n",
       "      <th>country_Norway</th>\n",
       "      <th>country_Poland</th>\n",
       "      <th>country_Portugal</th>\n",
       "      <th>country_Romania</th>\n",
       "      <th>country_Slovakia</th>\n",
       "      <th>country_Spain</th>\n",
       "      <th>country_Sweden</th>\n",
       "      <th>country_Switzerland</th>\n",
       "      <th>country_USA</th>\n",
       "    </tr>\n",
       "  </thead>\n",
       "  <tbody>\n",
       "    <tr>\n",
       "      <th>0</th>\n",
       "      <td>1</td>\n",
       "      <td>False</td>\n",
       "      <td>69</td>\n",
       "      <td>False</td>\n",
       "      <td>False</td>\n",
       "      <td>False</td>\n",
       "      <td>False</td>\n",
       "      <td>False</td>\n",
       "      <td>False</td>\n",
       "      <td>False</td>\n",
       "      <td>...</td>\n",
       "      <td>False</td>\n",
       "      <td>False</td>\n",
       "      <td>False</td>\n",
       "      <td>False</td>\n",
       "      <td>False</td>\n",
       "      <td>False</td>\n",
       "      <td>False</td>\n",
       "      <td>False</td>\n",
       "      <td>False</td>\n",
       "      <td>False</td>\n",
       "    </tr>\n",
       "    <tr>\n",
       "      <th>1</th>\n",
       "      <td>2</td>\n",
       "      <td>False</td>\n",
       "      <td>76</td>\n",
       "      <td>False</td>\n",
       "      <td>False</td>\n",
       "      <td>False</td>\n",
       "      <td>False</td>\n",
       "      <td>False</td>\n",
       "      <td>False</td>\n",
       "      <td>False</td>\n",
       "      <td>...</td>\n",
       "      <td>False</td>\n",
       "      <td>False</td>\n",
       "      <td>False</td>\n",
       "      <td>False</td>\n",
       "      <td>False</td>\n",
       "      <td>False</td>\n",
       "      <td>False</td>\n",
       "      <td>False</td>\n",
       "      <td>False</td>\n",
       "      <td>False</td>\n",
       "    </tr>\n",
       "    <tr>\n",
       "      <th>2</th>\n",
       "      <td>3</td>\n",
       "      <td>True</td>\n",
       "      <td>21</td>\n",
       "      <td>False</td>\n",
       "      <td>False</td>\n",
       "      <td>False</td>\n",
       "      <td>False</td>\n",
       "      <td>False</td>\n",
       "      <td>False</td>\n",
       "      <td>False</td>\n",
       "      <td>...</td>\n",
       "      <td>False</td>\n",
       "      <td>False</td>\n",
       "      <td>False</td>\n",
       "      <td>False</td>\n",
       "      <td>True</td>\n",
       "      <td>False</td>\n",
       "      <td>False</td>\n",
       "      <td>False</td>\n",
       "      <td>False</td>\n",
       "      <td>False</td>\n",
       "    </tr>\n",
       "    <tr>\n",
       "      <th>3</th>\n",
       "      <td>4</td>\n",
       "      <td>True</td>\n",
       "      <td>50</td>\n",
       "      <td>False</td>\n",
       "      <td>False</td>\n",
       "      <td>False</td>\n",
       "      <td>False</td>\n",
       "      <td>False</td>\n",
       "      <td>False</td>\n",
       "      <td>False</td>\n",
       "      <td>...</td>\n",
       "      <td>False</td>\n",
       "      <td>False</td>\n",
       "      <td>False</td>\n",
       "      <td>False</td>\n",
       "      <td>False</td>\n",
       "      <td>False</td>\n",
       "      <td>False</td>\n",
       "      <td>False</td>\n",
       "      <td>True</td>\n",
       "      <td>False</td>\n",
       "    </tr>\n",
       "    <tr>\n",
       "      <th>4</th>\n",
       "      <td>5</td>\n",
       "      <td>True</td>\n",
       "      <td>17</td>\n",
       "      <td>False</td>\n",
       "      <td>False</td>\n",
       "      <td>False</td>\n",
       "      <td>False</td>\n",
       "      <td>False</td>\n",
       "      <td>False</td>\n",
       "      <td>False</td>\n",
       "      <td>...</td>\n",
       "      <td>True</td>\n",
       "      <td>False</td>\n",
       "      <td>False</td>\n",
       "      <td>False</td>\n",
       "      <td>False</td>\n",
       "      <td>False</td>\n",
       "      <td>False</td>\n",
       "      <td>False</td>\n",
       "      <td>False</td>\n",
       "      <td>False</td>\n",
       "    </tr>\n",
       "  </tbody>\n",
       "</table>\n",
       "<p>5 rows × 28 columns</p>\n",
       "</div>"
      ],
      "text/plain": [
       "   customer_id  churn_status  age  country_Austria  country_Belgium  \\\n",
       "0            1         False   69            False            False   \n",
       "1            2         False   76            False            False   \n",
       "2            3          True   21            False            False   \n",
       "3            4          True   50            False            False   \n",
       "4            5          True   17            False            False   \n",
       "\n",
       "   country_Bulgaria  country_Czech Republic  country_Denmark  country_Estonia  \\\n",
       "0             False                   False            False            False   \n",
       "1             False                   False            False            False   \n",
       "2             False                   False            False            False   \n",
       "3             False                   False            False            False   \n",
       "4             False                   False            False            False   \n",
       "\n",
       "   country_Finland  ...  country_Netherlands  country_Norway  country_Poland  \\\n",
       "0            False  ...                False           False           False   \n",
       "1            False  ...                False           False           False   \n",
       "2            False  ...                False           False           False   \n",
       "3            False  ...                False           False           False   \n",
       "4            False  ...                 True           False           False   \n",
       "\n",
       "   country_Portugal  country_Romania  country_Slovakia  country_Spain  \\\n",
       "0             False            False             False          False   \n",
       "1             False            False             False          False   \n",
       "2             False             True             False          False   \n",
       "3             False            False             False          False   \n",
       "4             False            False             False          False   \n",
       "\n",
       "   country_Sweden  country_Switzerland  country_USA  \n",
       "0           False                False        False  \n",
       "1           False                False        False  \n",
       "2           False                False        False  \n",
       "3           False                 True        False  \n",
       "4           False                False        False  \n",
       "\n",
       "[5 rows x 28 columns]"
      ]
     },
     "execution_count": 118,
     "metadata": {},
     "output_type": "execute_result"
    }
   ],
   "source": [
    "df_test.head()"
   ]
  },
  {
   "cell_type": "code",
   "execution_count": 119,
   "metadata": {},
   "outputs": [
    {
     "name": "stdout",
     "output_type": "stream",
     "text": [
      "Trainset saved as: ../data/train_2025-01-30_16-47-04.csv\n"
     ]
    }
   ],
   "source": [
    "filename = f\"../data/train_{datetime.now().strftime('%Y-%m-%d_%H-%M-%S')}.csv\"\n",
    "df_train.to_csv(filename, index=False)\n",
    "print(f\"Trainset saved as: {filename}\")"
   ]
  },
  {
   "cell_type": "code",
   "execution_count": 120,
   "metadata": {},
   "outputs": [
    {
     "name": "stdout",
     "output_type": "stream",
     "text": [
      "Trainset saved as: ../data/test_2025-01-30_16-47-05.csv\n"
     ]
    }
   ],
   "source": [
    "filename = f\"../data/test_{datetime.now().strftime('%Y-%m-%d_%H-%M-%S')}.csv\"\n",
    "df_test.to_csv(filename, index=False)\n",
    "print(f\"Trainset saved as: {filename}\")"
   ]
  }
 ],
 "metadata": {
  "kernelspec": {
   "display_name": ".venv",
   "language": "python",
   "name": "python3"
  },
  "language_info": {
   "codemirror_mode": {
    "name": "ipython",
    "version": 3
   },
   "file_extension": ".py",
   "mimetype": "text/x-python",
   "name": "python",
   "nbconvert_exporter": "python",
   "pygments_lexer": "ipython3",
   "version": "3.13.1"
  }
 },
 "nbformat": 4,
 "nbformat_minor": 2
}
