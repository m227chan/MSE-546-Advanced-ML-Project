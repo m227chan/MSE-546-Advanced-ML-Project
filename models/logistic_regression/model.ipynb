{
 "cells": [
  {
   "cell_type": "markdown",
   "metadata": {},
   "source": [
    "# Baseline Model: Logistic Regression"
   ]
  },
  {
   "cell_type": "code",
   "execution_count": 4,
   "metadata": {},
   "outputs": [
    {
     "name": "stdout",
     "output_type": "stream",
     "text": [
      "Accuracy: 0.8005049315610486\n",
      "Confusion Matrix:\n",
      "[[84976     0]\n",
      " [21177     0]]\n",
      "Classification Report:\n",
      "              precision    recall  f1-score   support\n",
      "\n",
      "       False       0.80      1.00      0.89     84976\n",
      "        True       0.00      0.00      0.00     21177\n",
      "\n",
      "    accuracy                           0.80    106153\n",
      "   macro avg       0.40      0.50      0.44    106153\n",
      "weighted avg       0.64      0.80      0.71    106153\n",
      "\n",
      "AUC: 0.5111771523852712\n"
     ]
    },
    {
     "name": "stderr",
     "output_type": "stream",
     "text": [
      "c:\\Users\\matt_\\Desktop\\MGTE W25\\MSE 546 Advanced Machine Learning\\Project\\MSE-546-Advanced-ML-Project\\.venv\\Lib\\site-packages\\sklearn\\metrics\\_classification.py:1565: UndefinedMetricWarning: Precision is ill-defined and being set to 0.0 in labels with no predicted samples. Use `zero_division` parameter to control this behavior.\n",
      "  _warn_prf(average, modifier, f\"{metric.capitalize()} is\", len(result))\n",
      "c:\\Users\\matt_\\Desktop\\MGTE W25\\MSE 546 Advanced Machine Learning\\Project\\MSE-546-Advanced-ML-Project\\.venv\\Lib\\site-packages\\sklearn\\metrics\\_classification.py:1565: UndefinedMetricWarning: Precision is ill-defined and being set to 0.0 in labels with no predicted samples. Use `zero_division` parameter to control this behavior.\n",
      "  _warn_prf(average, modifier, f\"{metric.capitalize()} is\", len(result))\n",
      "c:\\Users\\matt_\\Desktop\\MGTE W25\\MSE 546 Advanced Machine Learning\\Project\\MSE-546-Advanced-ML-Project\\.venv\\Lib\\site-packages\\sklearn\\metrics\\_classification.py:1565: UndefinedMetricWarning: Precision is ill-defined and being set to 0.0 in labels with no predicted samples. Use `zero_division` parameter to control this behavior.\n",
      "  _warn_prf(average, modifier, f\"{metric.capitalize()} is\", len(result))\n"
     ]
    }
   ],
   "source": [
    "import pandas as pd\n",
    "from sklearn.preprocessing import StandardScaler\n",
    "from sklearn.linear_model import LogisticRegression\n",
    "from sklearn.metrics import accuracy_score, confusion_matrix, classification_report, roc_auc_score\n",
    "\n",
    "df = pd.read_csv('../../data/train_2025-01-30_14-25-29.csv')\n",
    "\n",
    "# Define the target and features\n",
    "X = df.drop(columns=['churn_status', 'customer_id'])\n",
    "y = df['churn_status'] \n",
    "\n",
    "scaler = StandardScaler()\n",
    "X_scaled = scaler.fit_transform(X)\n",
    "\n",
    "model = LogisticRegression(max_iter=1000)\n",
    "model.fit(X_scaled, y)\n",
    "\n",
    "# Predict the churn status\n",
    "y_pred = model.predict(X_scaled)\n",
    "\n",
    "# Evaluate the model\n",
    "accuracy = accuracy_score(y, y_pred)\n",
    "conf_matrix = confusion_matrix(y, y_pred)\n",
    "class_report = classification_report(y, y_pred)\n",
    "auc = roc_auc_score(y, model.predict_proba(X_scaled)[:, 1])\n",
    "\n",
    "# Print the results\n",
    "print(f\"Accuracy: {accuracy}\")\n",
    "print(\"Confusion Matrix:\")\n",
    "print(conf_matrix)\n",
    "print(\"Classification Report:\")\n",
    "print(class_report)\n",
    "print(f\"AUC: {auc}\")"
   ]
  }
 ],
 "metadata": {
  "kernelspec": {
   "display_name": ".venv",
   "language": "python",
   "name": "python3"
  },
  "language_info": {
   "codemirror_mode": {
    "name": "ipython",
    "version": 3
   },
   "file_extension": ".py",
   "mimetype": "text/x-python",
   "name": "python",
   "nbconvert_exporter": "python",
   "pygments_lexer": "ipython3",
   "version": "3.13.1"
  }
 },
 "nbformat": 4,
 "nbformat_minor": 2
}
