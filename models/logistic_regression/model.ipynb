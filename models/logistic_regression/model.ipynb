{
 "cells": [
  {
   "cell_type": "markdown",
   "metadata": {},
   "source": [
    "# Baseline Model: Logistic Regression"
   ]
  },
  {
   "cell_type": "code",
   "execution_count": 48,
   "metadata": {},
   "outputs": [
    {
     "name": "stdout",
     "output_type": "stream",
     "text": [
      "Accuracy: 0.8503\n",
      "Precision: 0.4766\n",
      "Recall: 0.0074\n",
      "F1 Score: 0.0146\n",
      "AUC: 0.5735\n",
      "\n",
      "Confusion Matrix:\n",
      "[[140243    201]\n",
      " [ 24528    183]]\n",
      "\n",
      "Classification Report:\n",
      "              precision    recall  f1-score   support\n",
      "\n",
      "       False       0.85      1.00      0.92    140444\n",
      "        True       0.48      0.01      0.01     24711\n",
      "\n",
      "    accuracy                           0.85    165155\n",
      "   macro avg       0.66      0.50      0.47    165155\n",
      "weighted avg       0.80      0.85      0.78    165155\n",
      "\n"
     ]
    }
   ],
   "source": [
    "import pandas as pd\n",
    "import numpy as np\n",
    "from sklearn.linear_model import LogisticRegression\n",
    "from sklearn.metrics import accuracy_score, confusion_matrix, classification_report, roc_auc_score, precision_score, recall_score, f1_score\n",
    "from sklearn.impute import SimpleImputer\n",
    "\n",
    "df_train = pd.read_csv('../../data/train_2025-02-04_17-10-32.csv')[['churn_status', 'customer_id', 'is_unemployed', 'total_complaints_30d', 'age', 'bank_diff', 'tenure']]\n",
    "df_test = pd.read_csv('../../data/test_2025-02-04_17-10-33.csv')[['churn_status', 'customer_id', 'is_unemployed', 'total_complaints_30d', 'age', 'bank_diff', 'tenure']]\n",
    "\n",
    "X_train = df_train.drop(columns=['churn_status', 'customer_id'])\n",
    "y_train = df_train['churn_status']\n",
    "\n",
    "X_test = df_test.drop(columns=['churn_status', 'customer_id'])\n",
    "y_test = df_test['churn_status']\n",
    "\n",
    "imputer = SimpleImputer(strategy='mean')\n",
    "X_train = pd.DataFrame(imputer.fit_transform(X_train), columns=X_train.columns)\n",
    "X_test = pd.DataFrame(imputer.transform(X_test), columns=X_test.columns)\n",
    "\n",
    "model = LogisticRegression(max_iter=1000)\n",
    "\n",
    "model.fit(X_train, y_train)\n",
    "\n",
    "y_pred = model.predict(X_test)\n",
    "y_pred_proba = model.predict_proba(X_test)[:, 1]\n",
    "\n",
    "accuracy = accuracy_score(y_test, y_pred)\n",
    "precision = precision_score(y_test, y_pred)\n",
    "recall = recall_score(y_test, y_pred)\n",
    "f1 = f1_score(y_test, y_pred)\n",
    "auc = roc_auc_score(y_test, y_pred_proba)\n",
    "\n",
    "print(f\"Accuracy: {accuracy:.4f}\")\n",
    "print(f\"Precision: {precision:.4f}\")\n",
    "print(f\"Recall: {recall:.4f}\")\n",
    "print(f\"F1 Score: {f1:.4f}\")\n",
    "print(f\"AUC: {auc:.4f}\")\n",
    "print(\"\\nConfusion Matrix:\")\n",
    "print(confusion_matrix(y_test, y_pred))\n",
    "print(\"\\nClassification Report:\")\n",
    "print(classification_report(y_test, y_pred))"
   ]
  },
  {
   "cell_type": "code",
   "execution_count": 49,
   "metadata": {},
   "outputs": [
    {
     "name": "stdout",
     "output_type": "stream",
     "text": [
      "\n",
      "Feature Importance:\n",
      "             Feature  Importance\n",
      "       is_unemployed   -0.167785\n",
      "total_complaints_30d    0.017272\n",
      "                 age   -0.012107\n",
      "              tenure    0.000139\n",
      "           bank_diff    0.000029\n"
     ]
    }
   ],
   "source": [
    "# Feature importance\n",
    "feature_importance = pd.DataFrame({\n",
    "    'Feature': X_train.columns,\n",
    "    'Importance': model.coef_[0]\n",
    "})\n",
    "feature_importance = feature_importance.sort_values(by='Importance', key=lambda x: abs(x), ascending=False)\n",
    "\n",
    "print(\"\\nFeature Importance:\")\n",
    "print(feature_importance.to_string(index=False))"
   ]
  }
 ],
 "metadata": {
  "kernelspec": {
   "display_name": ".venv",
   "language": "python",
   "name": "python3"
  },
  "language_info": {
   "codemirror_mode": {
    "name": "ipython",
    "version": 3
   },
   "file_extension": ".py",
   "mimetype": "text/x-python",
   "name": "python",
   "nbconvert_exporter": "python",
   "pygments_lexer": "ipython3",
   "version": "3.11.0"
  }
 },
 "nbformat": 4,
 "nbformat_minor": 2
}
