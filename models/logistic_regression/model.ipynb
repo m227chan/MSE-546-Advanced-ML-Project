{
 "cells": [
  {
   "cell_type": "markdown",
   "metadata": {},
   "source": [
    "# Baseline Model: Logistic Regression"
   ]
  },
  {
   "cell_type": "code",
   "execution_count": 41,
   "metadata": {},
   "outputs": [
    {
     "name": "stdout",
     "output_type": "stream",
     "text": [
      "Fitting 5 folds for each of 24 candidates, totalling 120 fits\n",
      "Best Parameters: {'C': 0.001, 'class_weight': None, 'penalty': 'l1', 'solver': 'liblinear'}\n",
      "\n",
      "Accuracy: 0.7485\n",
      "Precision: 0.2506\n",
      "Recall: 0.3421\n",
      "F1 Score: 0.2893\n",
      "AUC: 0.6497\n",
      "\n",
      "Confusion Matrix:\n",
      "[[115164  25280]\n",
      " [ 16257   8454]]\n",
      "\n",
      "Classification Report:\n",
      "              precision    recall  f1-score   support\n",
      "\n",
      "       False       0.88      0.82      0.85    140444\n",
      "        True       0.25      0.34      0.29     24711\n",
      "\n",
      "    accuracy                           0.75    165155\n",
      "   macro avg       0.56      0.58      0.57    165155\n",
      "weighted avg       0.78      0.75      0.76    165155\n",
      "\n"
     ]
    }
   ],
   "source": [
    "import pandas as pd\n",
    "import numpy as np\n",
    "from sklearn.preprocessing import StandardScaler\n",
    "from sklearn.linear_model import LogisticRegression\n",
    "from sklearn.model_selection import GridSearchCV\n",
    "from sklearn.metrics import accuracy_score, confusion_matrix, classification_report, roc_auc_score, precision_score, recall_score, f1_score\n",
    "\n",
    "# Load data\n",
    "df_train = pd.read_csv('../../data/train_2025-01-30_19-17-30.csv')[['churn_status', 'customer_id', 'tenure_bucket', 'days_since_transfer', 'is_unemployed', 'risk_flag']].fillna(0)\n",
    "df_test = pd.read_csv('../../data/test_2025-01-30_19-17-32.csv')[['churn_status', 'customer_id', 'tenure_bucket', 'days_since_transfer', 'is_unemployed', 'risk_flag']].fillna(0)\n",
    "\n",
    "# Define features and target\n",
    "X_train = df_train.drop(columns=['churn_status', 'customer_id'])\n",
    "y_train = df_train['churn_status']\n",
    "\n",
    "X_test = df_test.drop(columns=['churn_status', 'customer_id'])\n",
    "y_test = df_test['churn_status']\n",
    "\n",
    "# Scale features\n",
    "scaler = StandardScaler()\n",
    "X_train_scaled = scaler.fit_transform(X_train)\n",
    "X_test_scaled = scaler.transform(X_test)\n",
    "\n",
    "# Grid search hyperparameter tuning\n",
    "param_grid = {\n",
    "    'C': [0.001, 0.01, 0.1, 1, 10, 100],\n",
    "    'penalty': ['l1', 'l2'],\n",
    "    'class_weight': [None, 'balanced'],\n",
    "    'solver': ['liblinear']\n",
    "}\n",
    "\n",
    "grid_search = GridSearchCV(\n",
    "    estimator=LogisticRegression(max_iter=1000),\n",
    "    param_grid=param_grid,\n",
    "    scoring='roc_auc',\n",
    "    cv=5,\n",
    "    n_jobs=-1,\n",
    "    verbose=1\n",
    ")\n",
    "\n",
    "grid_search.fit(X_train_scaled, y_train)\n",
    "best_model = grid_search.best_estimator_\n",
    "\n",
    "# Generate predictions with best model\n",
    "y_pred = best_model.predict(X_test_scaled)\n",
    "y_pred_proba = best_model.predict_proba(X_test_scaled)[:, 1]\n",
    "\n",
    "# Calculate metrics\n",
    "accuracy = accuracy_score(y_test, y_pred)\n",
    "precision = precision_score(y_test, y_pred)\n",
    "recall = recall_score(y_test, y_pred)\n",
    "f1 = f1_score(y_test, y_pred)\n",
    "auc = roc_auc_score(y_test, y_pred_proba)\n",
    "\n",
    "# Print results\n",
    "print(f\"Best Parameters: {grid_search.best_params_}\\n\")\n",
    "print(f\"Accuracy: {accuracy:.4f}\")\n",
    "print(f\"Precision: {precision:.4f}\")\n",
    "print(f\"Recall: {recall:.4f}\")\n",
    "print(f\"F1 Score: {f1:.4f}\")\n",
    "print(f\"AUC: {auc:.4f}\")\n",
    "print(\"\\nConfusion Matrix:\")\n",
    "print(confusion_matrix(y_test, y_pred))\n",
    "print(\"\\nClassification Report:\")\n",
    "print(classification_report(y_test, y_pred))"
   ]
  },
  {
   "cell_type": "code",
   "execution_count": 42,
   "metadata": {},
   "outputs": [
    {
     "name": "stdout",
     "output_type": "stream",
     "text": [
      "\n",
      "Feature Importance:\n",
      "            Feature  Importance\n",
      "      tenure_bucket   -0.630786\n",
      "days_since_transfer    0.539868\n",
      "      is_unemployed   -0.016565\n",
      "          risk_flag   -0.006924\n"
     ]
    }
   ],
   "source": [
    "# Feature importance\n",
    "feature_importance = pd.DataFrame({\n",
    "    'Feature': X_train.columns,\n",
    "    'Importance': best_model.coef_[0]\n",
    "})\n",
    "feature_importance = feature_importance.sort_values(by='Importance', key=lambda x: abs(x), ascending=False)\n",
    "\n",
    "print(\"\\nFeature Importance:\")\n",
    "print(feature_importance.to_string(index=False))"
   ]
  }
 ],
 "metadata": {
  "kernelspec": {
   "display_name": ".venv",
   "language": "python",
   "name": "python3"
  },
  "language_info": {
   "codemirror_mode": {
    "name": "ipython",
    "version": 3
   },
   "file_extension": ".py",
   "mimetype": "text/x-python",
   "name": "python",
   "nbconvert_exporter": "python",
   "pygments_lexer": "ipython3",
   "version": "3.13.1"
  }
 },
 "nbformat": 4,
 "nbformat_minor": 2
}
